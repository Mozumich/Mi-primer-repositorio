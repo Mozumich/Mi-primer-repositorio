{
  "nbformat": 4,
  "nbformat_minor": 0,
  "metadata": {
    "colab": {
      "provenance": [],
      "authorship_tag": "ABX9TyPjKyLurWgRyWsFgNLS4C+W",
      "include_colab_link": true
    },
    "kernelspec": {
      "name": "python3",
      "display_name": "Python 3"
    },
    "language_info": {
      "name": "python"
    }
  },
  "cells": [
    {
      "cell_type": "markdown",
      "metadata": {
        "id": "view-in-github",
        "colab_type": "text"
      },
      "source": [
        "<a href=\"https://colab.research.google.com/github/Mozumich/Mi-primer-repositorio/blob/main/Pr%C3%A1cticaUVEG1.ipynb\" target=\"_parent\"><img src=\"https://colab.research.google.com/assets/colab-badge.svg\" alt=\"Open In Colab\"/></a>"
      ]
    },
    {
      "cell_type": "code",
      "source": [
        "varnombrecompleto=\"Convención común Python\"\n",
        "print(varnombrecompleto)\n"
      ],
      "metadata": {
        "colab": {
          "base_uri": "https://localhost:8080/"
        },
        "id": "7DTbmft40e86",
        "outputId": "b6bd38ab-35c5-4630-82eb-d273e756fc79"
      },
      "execution_count": 3,
      "outputs": [
        {
          "output_type": "stream",
          "name": "stdout",
          "text": [
            "Convención común Python\n"
          ]
        }
      ]
    },
    {
      "cell_type": "code",
      "source": [
        "#int\n",
        "x=2\n",
        "print(x)\n",
        "type(x)\n"
      ],
      "metadata": {
        "colab": {
          "base_uri": "https://localhost:8080/"
        },
        "id": "zWVOfnds0wwh",
        "outputId": "c2b0e752-e4c5-4912-a861-dbddcaaafd86"
      },
      "execution_count": 4,
      "outputs": [
        {
          "output_type": "stream",
          "name": "stdout",
          "text": [
            "2\n"
          ]
        },
        {
          "output_type": "execute_result",
          "data": {
            "text/plain": [
              "int"
            ]
          },
          "metadata": {},
          "execution_count": 4
        }
      ]
    },
    {
      "cell_type": "code",
      "source": [
        "y=6/2\n",
        "print(y)\n",
        "type(y)\n",
        "z=1+2j\n",
        "print(z.real)\n",
        "print(z.imag)\n",
        "type(z)\n"
      ],
      "metadata": {
        "colab": {
          "base_uri": "https://localhost:8080/"
        },
        "id": "7JeDs81p1JPh",
        "outputId": "44d3f005-bdbe-4589-9979-55123faeccba"
      },
      "execution_count": 6,
      "outputs": [
        {
          "output_type": "stream",
          "name": "stdout",
          "text": [
            "3.0\n",
            "1.0\n",
            "2.0\n"
          ]
        },
        {
          "output_type": "execute_result",
          "data": {
            "text/plain": [
              "complex"
            ]
          },
          "metadata": {},
          "execution_count": 6
        }
      ]
    },
    {
      "cell_type": "code",
      "source": [
        "z=1+2j\n",
        "print(z.real)\n",
        "print(z.imag)\n",
        "type(z)\n"
      ],
      "metadata": {
        "colab": {
          "base_uri": "https://localhost:8080/"
        },
        "id": "IMztCOfX1fDe",
        "outputId": "0dfaee6d-65c6-452f-e17a-8c0c99dfeeb7"
      },
      "execution_count": 7,
      "outputs": [
        {
          "output_type": "stream",
          "name": "stdout",
          "text": [
            "1.0\n",
            "2.0\n"
          ]
        },
        {
          "output_type": "execute_result",
          "data": {
            "text/plain": [
              "complex"
            ]
          },
          "metadata": {},
          "execution_count": 7
        }
      ]
    },
    {
      "cell_type": "code",
      "source": [
        "cNombre=\"Esto es una cadena de texto\"\n",
        "cOtroNombre='...también es una cadena de texto'\n",
        "cCuentaBancaria=\"BBVA90459@%#\"\n",
        "print(cNombre)\n",
        "print(cCuentaBancaria)\n"
      ],
      "metadata": {
        "colab": {
          "base_uri": "https://localhost:8080/"
        },
        "id": "vwX-4xAN1iq-",
        "outputId": "85a2e977-421d-4059-acdb-d5cc1da2eb54"
      },
      "execution_count": 8,
      "outputs": [
        {
          "output_type": "stream",
          "name": "stdout",
          "text": [
            "Esto es una cadena de texto\n",
            "BBVA90459@%#\n"
          ]
        }
      ]
    },
    {
      "cell_type": "code",
      "source": [
        "#boolean\n",
        "bFalso=False\n",
        "bVerdadero=True\n",
        "print(bFalso)\n",
        "print(bVerdadero)\n"
      ],
      "metadata": {
        "colab": {
          "base_uri": "https://localhost:8080/"
        },
        "id": "TZHwhVvh2BTa",
        "outputId": "e4420014-cfde-48b3-d803-422724620192"
      },
      "execution_count": 9,
      "outputs": [
        {
          "output_type": "stream",
          "name": "stdout",
          "text": [
            "False\n",
            "True\n"
          ]
        }
      ]
    },
    {
      "cell_type": "code",
      "source": [
        "#Ejemplo de Tuplas\n",
        "MiTupla=('Cadena de texto',25,45.68,'..mas datos...',10)\n",
        "#Obtener un dato de la tupla a través de su índice (el índice es base cero)\n",
        "print(MiTupla[2])\n",
        "#Obtenre una porción de datos de la tupla\n",
        "print(MiTupla[1:3])\n",
        "print(MiTupla[3:])\n",
        "print(MiTupla[:2])\n",
        "#Acceso en forma descendente\n",
        "print(MiTupla[-1])\n",
        "print(MiTupla[-2])"
      ],
      "metadata": {
        "colab": {
          "base_uri": "https://localhost:8080/"
        },
        "id": "AQGbMdF02Txj",
        "outputId": "cdc4c12a-e678-4c2e-cf78-b40d12ef4d51"
      },
      "execution_count": 15,
      "outputs": [
        {
          "output_type": "stream",
          "name": "stdout",
          "text": [
            "45.68\n",
            "(25, 45.68)\n",
            "('..mas datos...', 10)\n",
            "('Cadena de texto', 25)\n",
            "10\n",
            "..mas datos...\n"
          ]
        }
      ]
    },
    {
      "cell_type": "code",
      "source": [
        "#Ejemplos de listas\n",
        "miLista=['Cadena de texto',25,45.68,'..mas datos...',10]\n",
        "print(miLista[4])\n",
        "miLista.append('Nuevo Dato')\n",
        "print(miLista[5])\n",
        "#Modificación del valor\n",
        "miLista[5]='Modificando el nuevo dato'\n",
        "print(miLista[5])\n"
      ],
      "metadata": {
        "colab": {
          "base_uri": "https://localhost:8080/"
        },
        "id": "ITrSfi8m4ReS",
        "outputId": "242e8b7f-f1cc-41f0-fa44-073215495298"
      },
      "execution_count": 21,
      "outputs": [
        {
          "output_type": "stream",
          "name": "stdout",
          "text": [
            "10\n",
            "Nuevo Dato\n",
            "Modificando el nuevo dato\n"
          ]
        }
      ]
    },
    {
      "cell_type": "code",
      "source": [
        "#Ejemplo de Diccionarios\n",
        "miDiccionario={'Id_1':\"Juan Perez\",'Id_2':\"Antonio Gutierrez\",'Id_3':\"Jonathan Juarez\"}\n",
        "print(miDiccionario['Id_3'])\n",
        "del(miDiccionario['Id_2'])\n",
        "miDiccionario['Id_3']=\"Jonathan Uriel Juarez\"\n",
        "print(miDiccionario['Id_3'])\n",
        "\n",
        "\n"
      ],
      "metadata": {
        "colab": {
          "base_uri": "https://localhost:8080/"
        },
        "id": "s0Cmznvh6bXH",
        "outputId": "5c060e75-2f67-43fe-e7b3-897c9dd30813"
      },
      "execution_count": 32,
      "outputs": [
        {
          "output_type": "stream",
          "name": "stdout",
          "text": [
            "Jonathan Juarez\n",
            "Jonathan Uriel Juarez\n"
          ]
        }
      ]
    },
    {
      "cell_type": "code",
      "source": [
        "#Operadores Aritméticos\n",
        "monto_bruto=175\n",
        "tasa_interes=12\n",
        "monto_interes=monto_bruto*tasa_interes/100\n",
        "tasa_bonificacion=5\n",
        "importe_bonificacion=monto_bruto*tasa_bonificacion/100\n",
        "monto_neto=(monto_bruto-importe_bonificacion)+monto_interes\n",
        "print(\"Monto bruto:{0},Monto interes:{1},Bonificación:{2},Neto:{3}\".\n",
        "      format(monto_bruto,monto_interes,importe_bonificacion,monto_neto))\n"
      ],
      "metadata": {
        "colab": {
          "base_uri": "https://localhost:8080/"
        },
        "id": "BCnPFAgO-B5-",
        "outputId": "f813d4ae-424c-4482-afee-bc4432f4d348"
      },
      "execution_count": 33,
      "outputs": [
        {
          "output_type": "stream",
          "name": "stdout",
          "text": [
            "Monto bruto:175,Monto interes:21.0,Bonificación:8.75,Neto:187.25\n"
          ]
        }
      ]
    },
    {
      "cell_type": "code",
      "source": [
        "#Operadores Relacionales\n",
        "print(8<5)\n",
        "print(8<=5)\n",
        "print(8>5)\n",
        "print(8>=5)\n",
        "print(8==5)\n",
        "print(8!=5)\n"
      ],
      "metadata": {
        "colab": {
          "base_uri": "https://localhost:8080/"
        },
        "id": "BRW1e_94_Mxk",
        "outputId": "fe8f8faa-3bff-4300-ef8b-b2f1b858d488"
      },
      "execution_count": 35,
      "outputs": [
        {
          "output_type": "stream",
          "name": "stdout",
          "text": [
            "False\n",
            "False\n",
            "True\n",
            "True\n",
            "False\n",
            "True\n"
          ]
        }
      ]
    },
    {
      "cell_type": "code",
      "source": [
        "#Operadores Lógicos\n",
        "print(True and False)\n",
        "print(True or False)\n",
        "print(True^False)\n"
      ],
      "metadata": {
        "colab": {
          "base_uri": "https://localhost:8080/"
        },
        "id": "8ja9CVvW_ra-",
        "outputId": "eef883c1-35da-4f89-ca2e-c7b17c56b5d1"
      },
      "execution_count": 36,
      "outputs": [
        {
          "output_type": "stream",
          "name": "stdout",
          "text": [
            "False\n",
            "True\n",
            "True\n"
          ]
        }
      ]
    },
    {
      "cell_type": "code",
      "source": [
        "#Operadores de Asignación\n",
        "a,b,c=62,15,0\n",
        "print(\"Valor de variable'a':\",a)\n",
        "c=a+b\n",
        "print(\"Operador=|El valor de variable'c'es\",c)\n",
        "c%=a\n",
        "print(\"Operador%=|El valor de variable'c'es\",c)\n"
      ],
      "metadata": {
        "colab": {
          "base_uri": "https://localhost:8080/"
        },
        "id": "6QoLaDOjACK3",
        "outputId": "1549fab0-7760-4d15-9cf2-677668c86d4c"
      },
      "execution_count": 39,
      "outputs": [
        {
          "output_type": "stream",
          "name": "stdout",
          "text": [
            "Valor de variable'a': 62\n",
            "Operador=|El valor de variable'c'es 77\n",
            "Operador%=|El valor de variable'c'es 15\n"
          ]
        }
      ]
    },
    {
      "cell_type": "code",
      "source": [
        "#Uso de la sentencia \"import\"\n",
        "import numpy as np\n",
        "import pandas as pd\n",
        "\n",
        "help(\"import\")\n",
        "np."
      ],
      "metadata": {
        "colab": {
          "base_uri": "https://localhost:8080/"
        },
        "id": "lMy_yIHvAtEl",
        "outputId": "d766d585-bf87-4d0e-f9f0-cf3f0dcb601f"
      },
      "execution_count": 41,
      "outputs": [
        {
          "output_type": "stream",
          "name": "stdout",
          "text": [
            "The \"import\" statement\n",
            "**********************\n",
            "\n",
            "   import_stmt     ::= \"import\" module [\"as\" identifier] (\",\" module [\"as\" identifier])*\n",
            "                   | \"from\" relative_module \"import\" identifier [\"as\" identifier]\n",
            "                   (\",\" identifier [\"as\" identifier])*\n",
            "                   | \"from\" relative_module \"import\" \"(\" identifier [\"as\" identifier]\n",
            "                   (\",\" identifier [\"as\" identifier])* [\",\"] \")\"\n",
            "                   | \"from\" module \"import\" \"*\"\n",
            "   module          ::= (identifier \".\")* identifier\n",
            "   relative_module ::= \".\"* module | \".\"+\n",
            "\n",
            "The basic import statement (no \"from\" clause) is executed in two\n",
            "steps:\n",
            "\n",
            "1. find a module, loading and initializing it if necessary\n",
            "\n",
            "2. define a name or names in the local namespace for the scope where\n",
            "   the \"import\" statement occurs.\n",
            "\n",
            "When the statement contains multiple clauses (separated by commas) the\n",
            "two steps are carried out separately for each clause, just as though\n",
            "the clauses had been separated out into individual import statements.\n",
            "\n",
            "The details of the first step, finding and loading modules are\n",
            "described in greater detail in the section on the import system, which\n",
            "also describes the various types of packages and modules that can be\n",
            "imported, as well as all the hooks that can be used to customize the\n",
            "import system. Note that failures in this step may indicate either\n",
            "that the module could not be located, *or* that an error occurred\n",
            "while initializing the module, which includes execution of the\n",
            "module’s code.\n",
            "\n",
            "If the requested module is retrieved successfully, it will be made\n",
            "available in the local namespace in one of three ways:\n",
            "\n",
            "* If the module name is followed by \"as\", then the name following \"as\"\n",
            "  is bound directly to the imported module.\n",
            "\n",
            "* If no other name is specified, and the module being imported is a\n",
            "  top level module, the module’s name is bound in the local namespace\n",
            "  as a reference to the imported module\n",
            "\n",
            "* If the module being imported is *not* a top level module, then the\n",
            "  name of the top level package that contains the module is bound in\n",
            "  the local namespace as a reference to the top level package. The\n",
            "  imported module must be accessed using its full qualified name\n",
            "  rather than directly\n",
            "\n",
            "The \"from\" form uses a slightly more complex process:\n",
            "\n",
            "1. find the module specified in the \"from\" clause, loading and\n",
            "   initializing it if necessary;\n",
            "\n",
            "2. for each of the identifiers specified in the \"import\" clauses:\n",
            "\n",
            "   1. check if the imported module has an attribute by that name\n",
            "\n",
            "   2. if not, attempt to import a submodule with that name and then\n",
            "      check the imported module again for that attribute\n",
            "\n",
            "   3. if the attribute is not found, \"ImportError\" is raised.\n",
            "\n",
            "   4. otherwise, a reference to that value is stored in the local\n",
            "      namespace, using the name in the \"as\" clause if it is present,\n",
            "      otherwise using the attribute name\n",
            "\n",
            "Examples:\n",
            "\n",
            "   import foo                 # foo imported and bound locally\n",
            "   import foo.bar.baz         # foo.bar.baz imported, foo bound locally\n",
            "   import foo.bar.baz as fbb  # foo.bar.baz imported and bound as fbb\n",
            "   from foo.bar import baz    # foo.bar.baz imported and bound as baz\n",
            "   from foo import attr       # foo imported and foo.attr bound as attr\n",
            "\n",
            "If the list of identifiers is replaced by a star (\"'*'\"), all public\n",
            "names defined in the module are bound in the local namespace for the\n",
            "scope where the \"import\" statement occurs.\n",
            "\n",
            "The *public names* defined by a module are determined by checking the\n",
            "module’s namespace for a variable named \"__all__\"; if defined, it must\n",
            "be a sequence of strings which are names defined or imported by that\n",
            "module.  The names given in \"__all__\" are all considered public and\n",
            "are required to exist.  If \"__all__\" is not defined, the set of public\n",
            "names includes all names found in the module’s namespace which do not\n",
            "begin with an underscore character (\"'_'\").  \"__all__\" should contain\n",
            "the entire public API. It is intended to avoid accidentally exporting\n",
            "items that are not part of the API (such as library modules which were\n",
            "imported and used within the module).\n",
            "\n",
            "The wild card form of import — \"from module import *\" — is only\n",
            "allowed at the module level.  Attempting to use it in class or\n",
            "function definitions will raise a \"SyntaxError\".\n",
            "\n",
            "When specifying what module to import you do not have to specify the\n",
            "absolute name of the module. When a module or package is contained\n",
            "within another package it is possible to make a relative import within\n",
            "the same top package without having to mention the package name. By\n",
            "using leading dots in the specified module or package after \"from\" you\n",
            "can specify how high to traverse up the current package hierarchy\n",
            "without specifying exact names. One leading dot means the current\n",
            "package where the module making the import exists. Two dots means up\n",
            "one package level. Three dots is up two levels, etc. So if you execute\n",
            "\"from . import mod\" from a module in the \"pkg\" package then you will\n",
            "end up importing \"pkg.mod\". If you execute \"from ..subpkg2 import mod\"\n",
            "from within \"pkg.subpkg1\" you will import \"pkg.subpkg2.mod\". The\n",
            "specification for relative imports is contained in the Package\n",
            "Relative Imports section.\n",
            "\n",
            "\"importlib.import_module()\" is provided to support applications that\n",
            "determine dynamically the modules to be loaded.\n",
            "\n",
            "Raises an auditing event \"import\" with arguments \"module\", \"filename\",\n",
            "\"sys.path\", \"sys.meta_path\", \"sys.path_hooks\".\n",
            "\n",
            "\n",
            "Future statements\n",
            "=================\n",
            "\n",
            "A *future statement* is a directive to the compiler that a particular\n",
            "module should be compiled using syntax or semantics that will be\n",
            "available in a specified future release of Python where the feature\n",
            "becomes standard.\n",
            "\n",
            "The future statement is intended to ease migration to future versions\n",
            "of Python that introduce incompatible changes to the language.  It\n",
            "allows use of the new features on a per-module basis before the\n",
            "release in which the feature becomes standard.\n",
            "\n",
            "   future_stmt ::= \"from\" \"__future__\" \"import\" feature [\"as\" identifier]\n",
            "                   (\",\" feature [\"as\" identifier])*\n",
            "                   | \"from\" \"__future__\" \"import\" \"(\" feature [\"as\" identifier]\n",
            "                   (\",\" feature [\"as\" identifier])* [\",\"] \")\"\n",
            "   feature     ::= identifier\n",
            "\n",
            "A future statement must appear near the top of the module.  The only\n",
            "lines that can appear before a future statement are:\n",
            "\n",
            "* the module docstring (if any),\n",
            "\n",
            "* comments,\n",
            "\n",
            "* blank lines, and\n",
            "\n",
            "* other future statements.\n",
            "\n",
            "The only feature that requires using the future statement is\n",
            "\"annotations\" (see **PEP 563**).\n",
            "\n",
            "All historical features enabled by the future statement are still\n",
            "recognized by Python 3.  The list includes \"absolute_import\",\n",
            "\"division\", \"generators\", \"generator_stop\", \"unicode_literals\",\n",
            "\"print_function\", \"nested_scopes\" and \"with_statement\".  They are all\n",
            "redundant because they are always enabled, and only kept for backwards\n",
            "compatibility.\n",
            "\n",
            "A future statement is recognized and treated specially at compile\n",
            "time: Changes to the semantics of core constructs are often\n",
            "implemented by generating different code.  It may even be the case\n",
            "that a new feature introduces new incompatible syntax (such as a new\n",
            "reserved word), in which case the compiler may need to parse the\n",
            "module differently.  Such decisions cannot be pushed off until\n",
            "runtime.\n",
            "\n",
            "For any given release, the compiler knows which feature names have\n",
            "been defined, and raises a compile-time error if a future statement\n",
            "contains a feature not known to it.\n",
            "\n",
            "The direct runtime semantics are the same as for any import statement:\n",
            "there is a standard module \"__future__\", described later, and it will\n",
            "be imported in the usual way at the time the future statement is\n",
            "executed.\n",
            "\n",
            "The interesting runtime semantics depend on the specific feature\n",
            "enabled by the future statement.\n",
            "\n",
            "Note that there is nothing special about the statement:\n",
            "\n",
            "   import __future__ [as name]\n",
            "\n",
            "That is not a future statement; it’s an ordinary import statement with\n",
            "no special semantics or syntax restrictions.\n",
            "\n",
            "Code compiled by calls to the built-in functions \"exec()\" and\n",
            "\"compile()\" that occur in a module \"M\" containing a future statement\n",
            "will, by default, use the new syntax or semantics associated with the\n",
            "future statement.  This can be controlled by optional arguments to\n",
            "\"compile()\" — see the documentation of that function for details.\n",
            "\n",
            "A future statement typed at an interactive interpreter prompt will\n",
            "take effect for the rest of the interpreter session.  If an\n",
            "interpreter is started with the \"-i\" option, is passed a script name\n",
            "to execute, and the script includes a future statement, it will be in\n",
            "effect in the interactive session started after the script is\n",
            "executed.\n",
            "\n",
            "See also:\n",
            "\n",
            "  **PEP 236** - Back to the __future__\n",
            "     The original proposal for the __future__ mechanism.\n",
            "\n",
            "Related help topics: MODULES\n",
            "\n"
          ]
        }
      ]
    },
    {
      "cell_type": "code",
      "source": [
        "#Apertura de archivos y asignación de variables\n",
        "import pandas as pd\n",
        "banks=pd.read_csv('/content/sample_data7bank.csv',index_col=0)\n",
        "#imprimir la línea del registro para management\n",
        "print(banks.iloc[3])\n"
      ],
      "metadata": {
        "colab": {
          "base_uri": "https://localhost:8080/",
          "height": 380
        },
        "id": "FQ7sJPoiCi9j",
        "outputId": "9edd4459-dca3-446e-e64d-e14790ac6271"
      },
      "execution_count": 42,
      "outputs": [
        {
          "output_type": "error",
          "ename": "FileNotFoundError",
          "evalue": "ignored",
          "traceback": [
            "\u001b[0;31m---------------------------------------------------------------------------\u001b[0m",
            "\u001b[0;31mFileNotFoundError\u001b[0m                         Traceback (most recent call last)",
            "\u001b[0;32m<ipython-input-42-b46ea5b9b71f>\u001b[0m in \u001b[0;36m<module>\u001b[0;34m\u001b[0m\n\u001b[1;32m      1\u001b[0m \u001b[0;31m#Apertura de archivos y asignación de variables\u001b[0m\u001b[0;34m\u001b[0m\u001b[0;34m\u001b[0m\u001b[0;34m\u001b[0m\u001b[0m\n\u001b[1;32m      2\u001b[0m \u001b[0;32mimport\u001b[0m \u001b[0mpandas\u001b[0m \u001b[0;32mas\u001b[0m \u001b[0mpd\u001b[0m\u001b[0;34m\u001b[0m\u001b[0;34m\u001b[0m\u001b[0m\n\u001b[0;32m----> 3\u001b[0;31m \u001b[0mbanks\u001b[0m\u001b[0;34m=\u001b[0m\u001b[0mpd\u001b[0m\u001b[0;34m.\u001b[0m\u001b[0mread_csv\u001b[0m\u001b[0;34m(\u001b[0m\u001b[0;34m'/content/sample_data7bank.csv'\u001b[0m\u001b[0;34m,\u001b[0m\u001b[0mindex_col\u001b[0m\u001b[0;34m=\u001b[0m\u001b[0;36m0\u001b[0m\u001b[0;34m)\u001b[0m\u001b[0;34m\u001b[0m\u001b[0;34m\u001b[0m\u001b[0m\n\u001b[0m\u001b[1;32m      4\u001b[0m \u001b[0;31m#imprimir la línea del registro para management\u001b[0m\u001b[0;34m\u001b[0m\u001b[0;34m\u001b[0m\u001b[0;34m\u001b[0m\u001b[0m\n\u001b[1;32m      5\u001b[0m \u001b[0mprint\u001b[0m\u001b[0;34m(\u001b[0m\u001b[0mbanks\u001b[0m\u001b[0;34m.\u001b[0m\u001b[0miloc\u001b[0m\u001b[0;34m[\u001b[0m\u001b[0;36m3\u001b[0m\u001b[0;34m]\u001b[0m\u001b[0;34m)\u001b[0m\u001b[0;34m\u001b[0m\u001b[0;34m\u001b[0m\u001b[0m\n",
            "\u001b[0;32m/usr/local/lib/python3.8/dist-packages/pandas/util/_decorators.py\u001b[0m in \u001b[0;36mwrapper\u001b[0;34m(*args, **kwargs)\u001b[0m\n\u001b[1;32m    309\u001b[0m                     \u001b[0mstacklevel\u001b[0m\u001b[0;34m=\u001b[0m\u001b[0mstacklevel\u001b[0m\u001b[0;34m,\u001b[0m\u001b[0;34m\u001b[0m\u001b[0;34m\u001b[0m\u001b[0m\n\u001b[1;32m    310\u001b[0m                 )\n\u001b[0;32m--> 311\u001b[0;31m             \u001b[0;32mreturn\u001b[0m \u001b[0mfunc\u001b[0m\u001b[0;34m(\u001b[0m\u001b[0;34m*\u001b[0m\u001b[0margs\u001b[0m\u001b[0;34m,\u001b[0m \u001b[0;34m**\u001b[0m\u001b[0mkwargs\u001b[0m\u001b[0;34m)\u001b[0m\u001b[0;34m\u001b[0m\u001b[0;34m\u001b[0m\u001b[0m\n\u001b[0m\u001b[1;32m    312\u001b[0m \u001b[0;34m\u001b[0m\u001b[0m\n\u001b[1;32m    313\u001b[0m         \u001b[0;32mreturn\u001b[0m \u001b[0mwrapper\u001b[0m\u001b[0;34m\u001b[0m\u001b[0;34m\u001b[0m\u001b[0m\n",
            "\u001b[0;32m/usr/local/lib/python3.8/dist-packages/pandas/io/parsers/readers.py\u001b[0m in \u001b[0;36mread_csv\u001b[0;34m(filepath_or_buffer, sep, delimiter, header, names, index_col, usecols, squeeze, prefix, mangle_dupe_cols, dtype, engine, converters, true_values, false_values, skipinitialspace, skiprows, skipfooter, nrows, na_values, keep_default_na, na_filter, verbose, skip_blank_lines, parse_dates, infer_datetime_format, keep_date_col, date_parser, dayfirst, cache_dates, iterator, chunksize, compression, thousands, decimal, lineterminator, quotechar, quoting, doublequote, escapechar, comment, encoding, encoding_errors, dialect, error_bad_lines, warn_bad_lines, on_bad_lines, delim_whitespace, low_memory, memory_map, float_precision, storage_options)\u001b[0m\n\u001b[1;32m    584\u001b[0m     \u001b[0mkwds\u001b[0m\u001b[0;34m.\u001b[0m\u001b[0mupdate\u001b[0m\u001b[0;34m(\u001b[0m\u001b[0mkwds_defaults\u001b[0m\u001b[0;34m)\u001b[0m\u001b[0;34m\u001b[0m\u001b[0;34m\u001b[0m\u001b[0m\n\u001b[1;32m    585\u001b[0m \u001b[0;34m\u001b[0m\u001b[0m\n\u001b[0;32m--> 586\u001b[0;31m     \u001b[0;32mreturn\u001b[0m \u001b[0m_read\u001b[0m\u001b[0;34m(\u001b[0m\u001b[0mfilepath_or_buffer\u001b[0m\u001b[0;34m,\u001b[0m \u001b[0mkwds\u001b[0m\u001b[0;34m)\u001b[0m\u001b[0;34m\u001b[0m\u001b[0;34m\u001b[0m\u001b[0m\n\u001b[0m\u001b[1;32m    587\u001b[0m \u001b[0;34m\u001b[0m\u001b[0m\n\u001b[1;32m    588\u001b[0m \u001b[0;34m\u001b[0m\u001b[0m\n",
            "\u001b[0;32m/usr/local/lib/python3.8/dist-packages/pandas/io/parsers/readers.py\u001b[0m in \u001b[0;36m_read\u001b[0;34m(filepath_or_buffer, kwds)\u001b[0m\n\u001b[1;32m    480\u001b[0m \u001b[0;34m\u001b[0m\u001b[0m\n\u001b[1;32m    481\u001b[0m     \u001b[0;31m# Create the parser.\u001b[0m\u001b[0;34m\u001b[0m\u001b[0;34m\u001b[0m\u001b[0;34m\u001b[0m\u001b[0m\n\u001b[0;32m--> 482\u001b[0;31m     \u001b[0mparser\u001b[0m \u001b[0;34m=\u001b[0m \u001b[0mTextFileReader\u001b[0m\u001b[0;34m(\u001b[0m\u001b[0mfilepath_or_buffer\u001b[0m\u001b[0;34m,\u001b[0m \u001b[0;34m**\u001b[0m\u001b[0mkwds\u001b[0m\u001b[0;34m)\u001b[0m\u001b[0;34m\u001b[0m\u001b[0;34m\u001b[0m\u001b[0m\n\u001b[0m\u001b[1;32m    483\u001b[0m \u001b[0;34m\u001b[0m\u001b[0m\n\u001b[1;32m    484\u001b[0m     \u001b[0;32mif\u001b[0m \u001b[0mchunksize\u001b[0m \u001b[0;32mor\u001b[0m \u001b[0miterator\u001b[0m\u001b[0;34m:\u001b[0m\u001b[0;34m\u001b[0m\u001b[0;34m\u001b[0m\u001b[0m\n",
            "\u001b[0;32m/usr/local/lib/python3.8/dist-packages/pandas/io/parsers/readers.py\u001b[0m in \u001b[0;36m__init__\u001b[0;34m(self, f, engine, **kwds)\u001b[0m\n\u001b[1;32m    809\u001b[0m             \u001b[0mself\u001b[0m\u001b[0;34m.\u001b[0m\u001b[0moptions\u001b[0m\u001b[0;34m[\u001b[0m\u001b[0;34m\"has_index_names\"\u001b[0m\u001b[0;34m]\u001b[0m \u001b[0;34m=\u001b[0m \u001b[0mkwds\u001b[0m\u001b[0;34m[\u001b[0m\u001b[0;34m\"has_index_names\"\u001b[0m\u001b[0;34m]\u001b[0m\u001b[0;34m\u001b[0m\u001b[0;34m\u001b[0m\u001b[0m\n\u001b[1;32m    810\u001b[0m \u001b[0;34m\u001b[0m\u001b[0m\n\u001b[0;32m--> 811\u001b[0;31m         \u001b[0mself\u001b[0m\u001b[0;34m.\u001b[0m\u001b[0m_engine\u001b[0m \u001b[0;34m=\u001b[0m \u001b[0mself\u001b[0m\u001b[0;34m.\u001b[0m\u001b[0m_make_engine\u001b[0m\u001b[0;34m(\u001b[0m\u001b[0mself\u001b[0m\u001b[0;34m.\u001b[0m\u001b[0mengine\u001b[0m\u001b[0;34m)\u001b[0m\u001b[0;34m\u001b[0m\u001b[0;34m\u001b[0m\u001b[0m\n\u001b[0m\u001b[1;32m    812\u001b[0m \u001b[0;34m\u001b[0m\u001b[0m\n\u001b[1;32m    813\u001b[0m     \u001b[0;32mdef\u001b[0m \u001b[0mclose\u001b[0m\u001b[0;34m(\u001b[0m\u001b[0mself\u001b[0m\u001b[0;34m)\u001b[0m\u001b[0;34m:\u001b[0m\u001b[0;34m\u001b[0m\u001b[0;34m\u001b[0m\u001b[0m\n",
            "\u001b[0;32m/usr/local/lib/python3.8/dist-packages/pandas/io/parsers/readers.py\u001b[0m in \u001b[0;36m_make_engine\u001b[0;34m(self, engine)\u001b[0m\n\u001b[1;32m   1038\u001b[0m             )\n\u001b[1;32m   1039\u001b[0m         \u001b[0;31m# error: Too many arguments for \"ParserBase\"\u001b[0m\u001b[0;34m\u001b[0m\u001b[0;34m\u001b[0m\u001b[0;34m\u001b[0m\u001b[0m\n\u001b[0;32m-> 1040\u001b[0;31m         \u001b[0;32mreturn\u001b[0m \u001b[0mmapping\u001b[0m\u001b[0;34m[\u001b[0m\u001b[0mengine\u001b[0m\u001b[0;34m]\u001b[0m\u001b[0;34m(\u001b[0m\u001b[0mself\u001b[0m\u001b[0;34m.\u001b[0m\u001b[0mf\u001b[0m\u001b[0;34m,\u001b[0m \u001b[0;34m**\u001b[0m\u001b[0mself\u001b[0m\u001b[0;34m.\u001b[0m\u001b[0moptions\u001b[0m\u001b[0;34m)\u001b[0m  \u001b[0;31m# type: ignore[call-arg]\u001b[0m\u001b[0;34m\u001b[0m\u001b[0;34m\u001b[0m\u001b[0m\n\u001b[0m\u001b[1;32m   1041\u001b[0m \u001b[0;34m\u001b[0m\u001b[0m\n\u001b[1;32m   1042\u001b[0m     \u001b[0;32mdef\u001b[0m \u001b[0m_failover_to_python\u001b[0m\u001b[0;34m(\u001b[0m\u001b[0mself\u001b[0m\u001b[0;34m)\u001b[0m\u001b[0;34m:\u001b[0m\u001b[0;34m\u001b[0m\u001b[0;34m\u001b[0m\u001b[0m\n",
            "\u001b[0;32m/usr/local/lib/python3.8/dist-packages/pandas/io/parsers/c_parser_wrapper.py\u001b[0m in \u001b[0;36m__init__\u001b[0;34m(self, src, **kwds)\u001b[0m\n\u001b[1;32m     49\u001b[0m \u001b[0;34m\u001b[0m\u001b[0m\n\u001b[1;32m     50\u001b[0m         \u001b[0;31m# open handles\u001b[0m\u001b[0;34m\u001b[0m\u001b[0;34m\u001b[0m\u001b[0;34m\u001b[0m\u001b[0m\n\u001b[0;32m---> 51\u001b[0;31m         \u001b[0mself\u001b[0m\u001b[0;34m.\u001b[0m\u001b[0m_open_handles\u001b[0m\u001b[0;34m(\u001b[0m\u001b[0msrc\u001b[0m\u001b[0;34m,\u001b[0m \u001b[0mkwds\u001b[0m\u001b[0;34m)\u001b[0m\u001b[0;34m\u001b[0m\u001b[0;34m\u001b[0m\u001b[0m\n\u001b[0m\u001b[1;32m     52\u001b[0m         \u001b[0;32massert\u001b[0m \u001b[0mself\u001b[0m\u001b[0;34m.\u001b[0m\u001b[0mhandles\u001b[0m \u001b[0;32mis\u001b[0m \u001b[0;32mnot\u001b[0m \u001b[0;32mNone\u001b[0m\u001b[0;34m\u001b[0m\u001b[0;34m\u001b[0m\u001b[0m\n\u001b[1;32m     53\u001b[0m \u001b[0;34m\u001b[0m\u001b[0m\n",
            "\u001b[0;32m/usr/local/lib/python3.8/dist-packages/pandas/io/parsers/base_parser.py\u001b[0m in \u001b[0;36m_open_handles\u001b[0;34m(self, src, kwds)\u001b[0m\n\u001b[1;32m    220\u001b[0m         \u001b[0mLet\u001b[0m \u001b[0mthe\u001b[0m \u001b[0mreaders\u001b[0m \u001b[0mopen\u001b[0m \u001b[0mIOHandles\u001b[0m \u001b[0mafter\u001b[0m \u001b[0mthey\u001b[0m \u001b[0mare\u001b[0m \u001b[0mdone\u001b[0m \u001b[0;32mwith\u001b[0m \u001b[0mtheir\u001b[0m \u001b[0mpotential\u001b[0m \u001b[0mraises\u001b[0m\u001b[0;34m.\u001b[0m\u001b[0;34m\u001b[0m\u001b[0;34m\u001b[0m\u001b[0m\n\u001b[1;32m    221\u001b[0m         \"\"\"\n\u001b[0;32m--> 222\u001b[0;31m         self.handles = get_handle(\n\u001b[0m\u001b[1;32m    223\u001b[0m             \u001b[0msrc\u001b[0m\u001b[0;34m,\u001b[0m\u001b[0;34m\u001b[0m\u001b[0;34m\u001b[0m\u001b[0m\n\u001b[1;32m    224\u001b[0m             \u001b[0;34m\"r\"\u001b[0m\u001b[0;34m,\u001b[0m\u001b[0;34m\u001b[0m\u001b[0;34m\u001b[0m\u001b[0m\n",
            "\u001b[0;32m/usr/local/lib/python3.8/dist-packages/pandas/io/common.py\u001b[0m in \u001b[0;36mget_handle\u001b[0;34m(path_or_buf, mode, encoding, compression, memory_map, is_text, errors, storage_options)\u001b[0m\n\u001b[1;32m    700\u001b[0m         \u001b[0;32mif\u001b[0m \u001b[0mioargs\u001b[0m\u001b[0;34m.\u001b[0m\u001b[0mencoding\u001b[0m \u001b[0;32mand\u001b[0m \u001b[0;34m\"b\"\u001b[0m \u001b[0;32mnot\u001b[0m \u001b[0;32min\u001b[0m \u001b[0mioargs\u001b[0m\u001b[0;34m.\u001b[0m\u001b[0mmode\u001b[0m\u001b[0;34m:\u001b[0m\u001b[0;34m\u001b[0m\u001b[0;34m\u001b[0m\u001b[0m\n\u001b[1;32m    701\u001b[0m             \u001b[0;31m# Encoding\u001b[0m\u001b[0;34m\u001b[0m\u001b[0;34m\u001b[0m\u001b[0;34m\u001b[0m\u001b[0m\n\u001b[0;32m--> 702\u001b[0;31m             handle = open(\n\u001b[0m\u001b[1;32m    703\u001b[0m                 \u001b[0mhandle\u001b[0m\u001b[0;34m,\u001b[0m\u001b[0;34m\u001b[0m\u001b[0;34m\u001b[0m\u001b[0m\n\u001b[1;32m    704\u001b[0m                 \u001b[0mioargs\u001b[0m\u001b[0;34m.\u001b[0m\u001b[0mmode\u001b[0m\u001b[0;34m,\u001b[0m\u001b[0;34m\u001b[0m\u001b[0;34m\u001b[0m\u001b[0m\n",
            "\u001b[0;31mFileNotFoundError\u001b[0m: [Errno 2] No such file or directory: '/content/sample_data7bank.csv'"
          ]
        }
      ]
    },
    {
      "cell_type": "code",
      "source": [
        "from pandas.io.formats.style import plt\n",
        "#Graficar con Python\n",
        "#Importamos las librerías necesarias\n",
        "import math\n",
        "import numpy as np\n",
        "\n",
        "from matplotlib import pyplot as plypot\n",
        "\n",
        "plypot=plt\n",
        "\n",
        "#Generamos un array con valores calculando el seno de un angulo\n",
        "x=np.array(range(20))*0.1\n",
        "y=np.zeros(len(x))\n",
        "for i in range(len(x)):\n",
        "  y[i]=math.sin(x[i])\n",
        "\n",
        "plt.xlabel('x')\n",
        "plt.ylabel('y')\n",
        "plt.title('Ejercicio gráficas Python')\n",
        "plt.plot(x,y)\n",
        "\n"
      ],
      "metadata": {
        "colab": {
          "base_uri": "https://localhost:8080/",
          "height": 312
        },
        "id": "mQOgk2gaDIVP",
        "outputId": "d001127c-1809-4444-8f5c-9021b8285bb3"
      },
      "execution_count": 48,
      "outputs": [
        {
          "output_type": "execute_result",
          "data": {
            "text/plain": [
              "[<matplotlib.lines.Line2D at 0x7f2a4c01e1f0>]"
            ]
          },
          "metadata": {},
          "execution_count": 48
        },
        {
          "output_type": "display_data",
          "data": {
            "text/plain": [
              "<Figure size 432x288 with 1 Axes>"
            ],
            "image/png": "[encoded data removed]"
          },
          "metadata": {
            "needs_background": "light"
          }
        }
      ]
    }
  ]
}